{
 "cells": [
  {
   "cell_type": "markdown",
   "metadata": {},
   "source": [
    "# 2.  线性回归  \n",
    "本部分基于城市用电量预测任务，包括单变量线性回归，多变量线性回归，正规方程，多项式回归五个部分。  \n",
    "环境：Numpy， Pytorch"
   ]
  },
  {
   "cell_type": "markdown",
   "metadata": {},
   "source": [
    "## 2.1 基本原理\n",
    "\n",
    "线性回归是一个从输入变量到输出的线性映射，线性回归属于回归任务，输出是一个标量：\n",
    "\n",
    "<img src=\"./imgs/图片1.png\" alt=\"image-20210709154939648\" style=\"zoom:80%;\" />\n",
    "\n",
    "线性回归模型可以表示为输入变量的线性组合：\n",
    "\n",
    "​\t$f(𝒙, 𝒘)= b + 𝑤_1𝑥_1 + ⋯ + 𝑤_𝑛𝑥_𝑛$\n",
    "\n",
    "引入输入变量的非线性激活函数$\\phi$后，表示为：\n",
    "\n",
    "​\t$f(x,w)=b+\\Sigma_{j=1}^{N-1}w_j\\phi(x_j)$\n",
    "\n",
    "为了衡量拟合最好的模型，引入**损失函数**，如平方损失：\n",
    "\n",
    "​\t\t$J(w)=\\frac{1}{2m}\\Sigma^{m}_{i=1}l(f_w(x^{i}),y^i)=\\frac{1}{2m}\\Sigma^{m}_{i=1}(f_w(x^{i})-y^i)^2$\n",
    "\n",
    "我们的目标是是损失函数最小化：\n",
    "\n",
    "​\t$min_wJ(w)$\n",
    "\n",
    "通常我们使用**梯度下降法**令损失函向最大梯度的反方向移动，以此达到局部最小值：\n",
    "\n",
    "<img src=\"./imgs/图片2.png\" alt=\"image-20210709173337304\" style=\"zoom:80%;\" />\n",
    "\n",
    "对于平方损失，重复更新权重w，损失将一步一步下降，直到达到局部最小值：\n",
    "\n",
    "​\t$w_i = w_i-\\eta \\Sigma_n-(y^n-f_w(x^n))x_i^n$\n",
    "\n",
    "<img src=\"./imgs/图片3.png\" alt=\"image-20210709174139203\" style=\"zoom:40%;\" />"
   ]
  },
  {
   "cell_type": "markdown",
   "metadata": {},
   "source": [
    "## 2.2 基于numpy的线性回归\n",
    "### 任务背景：\n",
    "电网系统需要考虑最高温度对城市的峰值用电量的影响，项目负责人需要预测明天城市的峰值用电量。 现在，负责人提供了他搜集到的温度-用电量数据，并请求你帮他训练出一个模型，这个模型能够很好地预测明天城市的峰值用电量。"
   ]
  },
  {
   "cell_type": "markdown",
   "metadata": {},
   "source": [
    "### 2.2.1 准备"
   ]
  },
  {
   "cell_type": "markdown",
   "metadata": {},
   "source": [
    "导入python包"
   ]
  },
  {
   "cell_type": "code",
   "execution_count": 10,
   "metadata": {},
   "outputs": [],
   "source": [
    "import numpy as np\n",
    "import matplotlib.pyplot as plt\n",
    "import pandas as pd"
   ]
  },
  {
   "cell_type": "markdown",
   "metadata": {},
   "source": [
    "导入数据，可视化数据"
   ]
  },
  {
   "cell_type": "code",
   "execution_count": 11,
   "metadata": {},
   "outputs": [
    {
     "name": "stdout",
     "output_type": "stream",
     "text": [
      "   High temperature  Population  Peak demand\n",
      "0             38.79        0.63         4.21\n",
      "1             37.53        0.56         2.84\n",
      "2             32.93        1.04         3.11\n",
      "3             25.82        1.02         3.32\n",
      "4             20.89        1.10         2.42\n",
      "X shape: (80, 1)\n",
      "Y shape: (80, 1)\n"
     ]
    },
    {
     "data": {
      "image/png": "[encoded data removed]",
      "text/plain": [
       "<Figure size 432x288 with 1 Axes>"
      ]
     },
     "metadata": {
      "needs_background": "light"
     },
     "output_type": "display_data"
    }
   ],
   "source": [
    "#data 第一列为温度信息 第二列为人口信息 第三列为用电量信息\n",
    "data = np.loadtxt('./data/data.txt')\n",
    "df = pd.DataFrame({'High temperature':data[:,0],'Population':data[:,1],'Peak demand':data[:,2]})\n",
    "print(df.head())\n",
    "X = data[:,0].reshape(-1,1)\n",
    "Y = data[:,2].reshape(-1,1)\n",
    "\n",
    "plt.xlabel('High temperature')\n",
    "plt.ylabel('Peak demand')\n",
    "plt.scatter(X,Y)\n",
    "print('X shape:',X.shape)\n",
    "print('Y shape:',Y.shape)"
   ]
  },
  {
   "cell_type": "markdown",
   "metadata": {},
   "source": [
    "### 2.2.2 单变量线性回归"
   ]
  },
  {
   "cell_type": "markdown",
   "metadata": {},
   "source": [
    "使用回归算法来训练一个模型，用来预测明天城市的峰值用电量。\n",
    "\n",
    "### 单变量线性回归模型表示\n",
    "$$Peak\\ demand \\approx \\theta_0 + \\theta_1 \\cdot (High\\ temperature)$$\n",
    "![functions](imgs/lines.jpg)\n",
    "单变量线性回归的模型由两个参数$\\theta_0$,$\\theta_1$来表示一条直线。我们的目标也就是找到一个\"最符合\"的直线或者说参数$\\theta_i$如何选择。\n",
    "\n",
    "设输入的特征——最高温度(F)为$x^{(i)} \\in \\mathbb{R}^{n+1}$，$i=1,\\cdots,m$。$m$为样本总数，在该例子中为**$m=80$**。$n$为特征的个数，这里为$1$。\n",
    "$$\n",
    "x^{(i)} \\in \\mathbb{R}^2 = \\begin{bmatrix} 1 \\\\ \\text{high temperature for day i} \\end{bmatrix}\n",
    "$$\n",
    "\n",
    "设输出为$y^{(i)} \\in \\mathbb{R}$，表示第$i$天的峰值用电量。\n",
    "\n",
    "参数为$\\theta \\in \\mathbb{R}^{n+1} = \\begin{bmatrix} \\theta_0 \\\\ \\theta_1 \\\\ \\vdots \\\\ \\theta_n \\end{bmatrix}$\n",
    "\n",
    "在该例子中，模型应该为一条直线，假设模型为：\n",
    "$$h_{\\theta}(x) = \\theta^T x = \\theta_0 + \\theta_1 x $$\n",
    "**注意**：这里的$\\theta^T$是一个向量，$\\theta_0,\\theta_1$是标量。使用向量化的表示原因（1）简化数学公式的书写（2）与程序代码中的表示可以一致，使用向量化的代码表示可以加速运算，因此一般能不用`for`循环的地方都不用`for`循环。\n",
    "### 损失函数\n",
    "\n",
    "模型的预测结果和实际结果有差距，为了衡量它们之间的差距，或者说使用这个模型产生的损失，我们定义损失函数$l(h_\\theta(x), y)$。这里我们使用平方损失：\n",
    "$$\n",
    "l(h_\\theta(x), y) = \\left ( h_\\theta(x) - y \\right )^2\n",
    "$$\n",
    "\n",
    "上述损失函数表示一个样本的损失，训练集的损失使用$J(\\theta)$表示：\n",
    "$$\n",
    "\\begin{aligned}\n",
    "J(\\theta) & = \\frac{1}{2m} \\sum_{i=1}^{m}l(h_\\theta(x^{(i)}), y^{(i)}) \\\\\n",
    "& = \\frac{1}{2m} \\sum_{i=1}^{m} \\left ( h_\\theta(x^{(i)}) - y^{(i)} \\right )^2 \\\\\n",
    "& = \\frac{1}{2m} \\sum_{i=1}^{m} \\left ( \\theta^T x^{(i)} - y^{(i)} \\right )^2\n",
    "\\end{aligned}\n",
    "$$\n",
    "\n",
    "为了使模型的预测效果好，需要最小化训练集上的损失，$\\underset{\\theta}{\\text{minimize}} J(\\theta)$。\n",
    "\n",
    "### 梯度下降法\n",
    "\n",
    "为了得到使得损失函数$J(\\theta)$最小化的$\\theta$，可以使用梯度下降法。\n",
    "\n",
    "损失函数$J(\\theta)$的函数图像如下\n",
    "![损失函数J](imgs/loss_function_j.png)\n",
    "\n",
    "损失函数$J(\\theta)$关于参数向量$\\theta$中的一个参数比如$\\theta_1$的函数图是\n",
    "![theta-J 函数图](imgs/theta-J.png)\n",
    "\n",
    "假设一开始$J(\\theta)$的值在紫色点上，为了降低$J(\\theta)$值，需要$\\theta_1$往右变移动，这个方向是$J(\\theta)$在$\\theta_1$上的负梯度。只要$\\theta$不断往负梯度方向移动，$J(\\theta)$一定可以降到最低值。梯度下降法就是使参数$\\theta$不断往负梯度移动，经过有限次迭代(更新$\\theta$值)之后，损失函数$J(\\theta)$达到最低值。\n",
    "\n",
    "梯度下降法的过程：\n",
    "1. 初始化参数向量$\\theta$。\n",
    "2. 开始迭代：\n",
    "  1. 计算损失函数$J(\\theta)$，\n",
    "  2. 计算$\\theta$的梯度，\n",
    "  3. 更新参数$\\theta$。\n",
    "\n"
   ]
  },
  {
   "cell_type": "markdown",
   "metadata": {},
   "source": [
    "现在开始实现 Regression 学习算法。\n",
    "\n",
    "**任务1：** 首先在$X$前面加上一列1，表示参数$\\theta_0$的系数，方便运算。$X$是形状为$(m,1)$的矩阵，一共$m$行数据，需要为每一行数据的前面加一列1\n",
    "$$\n",
    "\\begin{bmatrix} x^{(0)} \\\\ x^{(1)} \\\\ \\vdots \\\\x^{(m-1)}  \\end{bmatrix} \\longrightarrow\n",
    "\\begin{bmatrix} 1\\quad x^{(0)} \\\\ 1\\quad x^{(1)} \\\\ \\vdots \\\\ 1\\ x^{(m-1)}  \\end{bmatrix}\n",
    "$$\n",
    "提示：可以使用`np.hstack`把两个矩阵水平合在一起。用1初始化向量或矩阵的函数是`np.ones`。"
   ]
  },
  {
   "cell_type": "code",
   "execution_count": 53,
   "metadata": {},
   "outputs": [],
   "source": [
    "def preprocess_data(X):\n",
    "    \"\"\"输入预处理 在X前面加一列1\n",
    "    参数：\n",
    "        X:原始数据，shape为 mx1\n",
    "    返回：\n",
    "        X_train: 在X加一列1的数据，shape为 mx2\n",
    "    \"\"\"\n",
    "\n",
    "    m = X.shape[0]   # m 是数据X的行数\n",
    "    ### START CODE HERE ###\n",
    "    \n",
    "    X_train = np.hstack((np.ones((m,1)),X))\n",
    "    \n",
    "    ### END CODE HERE ###\n",
    "    return X_train"
   ]
  },
  {
   "cell_type": "code",
   "execution_count": 54,
   "metadata": {},
   "outputs": [
    {
     "name": "stdout",
     "output_type": "stream",
     "text": [
      "new X shape: (80, 2)\n",
      "Y shape: (80, 1)\n",
      "new X[:10,:]=\n",
      " [[ 1.   38.79]\n",
      " [ 1.   37.53]\n",
      " [ 1.   32.93]\n",
      " [ 1.   25.82]\n",
      " [ 1.   20.89]]\n"
     ]
    }
   ],
   "source": [
    "X = preprocess_data(X)\n",
    "print('new X shape:',X.shape)\n",
    "print('Y shape:',Y.shape)\n",
    "print('new X[:10,:]=\\n',X[:5,:])"
   ]
  },
  {
   "cell_type": "markdown",
   "metadata": {},
   "source": [
    "**任务2：** 初始化参数向量$\\theta$。$\\theta$的shape是$(2,1)$，随机初始化$\\theta$。\n",
    "\n",
    "提示：numpy的随机函数是`np.random.rand`。"
   ]
  },
  {
   "cell_type": "code",
   "execution_count": 55,
   "metadata": {},
   "outputs": [],
   "source": [
    "def init_parameter(shape):\n",
    "    \"\"\"初始化参数\n",
    "    参数：\n",
    "        shape: 参数形状\n",
    "    返回：\n",
    "        theta_init: 初始化后的参数\n",
    "    \n",
    "    \"\"\"\n",
    "    np.random.seed(0)\n",
    "    \n",
    "    ### START CODE HERE ###\n",
    "\n",
    "    theta_init = np.random.rand(*shape)\n",
    "\n",
    "    ### END CODE HERE ###\n",
    "    \n",
    "    return theta_init"
   ]
  },
  {
   "cell_type": "code",
   "execution_count": 56,
   "metadata": {},
   "outputs": [
    {
     "name": "stdout",
     "output_type": "stream",
     "text": [
      "theta shape is (2, 1)\n",
      "theta = \n",
      " [[0.5488135 ]\n",
      " [0.71518937]]\n"
     ]
    }
   ],
   "source": [
    "theta = init_parameter((2,1))\n",
    "print('theta shape is',theta.shape)\n",
    "print('theta = \\n',theta)"
   ]
  },
  {
   "cell_type": "markdown",
   "metadata": {},
   "source": [
    "**任务3：** 实现计算损失函数$J(\\theta)$的函数。   \n",
    "从公式$$\n",
    "\\begin{aligned}\n",
    "J(\\theta) = \\frac{1}{2m} \\sum_{i=1}^{m} \\left ( \\theta^T x^{(i)} - y^{(i)} \\right )^2\n",
    "\\end{aligned}\n",
    "$$\n",
    "由于使用`for`循环效率不高，因此用向量化的方法去掉`for`循环。$X$ 大小为$m \\times (n+1)$($n$表示特征数量，对于这里$n=1$)，每行是一条样本特征向量，$\\theta$ 大小为$(n+1) \\times 1$，可以使用$X \\theta$计算所有样本的预测结果,大小为$m\\times 1$，接着$(X \\theta - Y)^2$计算所有样本的损失值，最后求和并除以$2m$得到$J(\\theta)$的值。因此，这里的线性模型就可以表示为\n",
    "$$h_{\\theta}(X) = X\\theta$$ $h_{\\theta}(X)$的大小为$m\\times 1$，$J(\\theta)$应该是一个标量   \n",
    "提示：矩阵乘法运算可使用`np.dot`函数，平方运算可使用`np.power(data, 2)`函数，求和运算可使用`np.sum`。"
   ]
  },
  {
   "cell_type": "code",
   "execution_count": 57,
   "metadata": {},
   "outputs": [],
   "source": [
    "def compute_J(X, Y, theta):\n",
    "    \"\"\"计算损失函数J\n",
    "    参数：\n",
    "        X: 训练集数据特征，shape: (m, 2)\n",
    "        Y: 训练集数据标签，shape: (m, 1)\n",
    "        theta: 参数，shape: (2, 1)\n",
    "        \n",
    "    返回：\n",
    "        loss: 损失值\n",
    "    \"\"\"\n",
    "    \n",
    "    m = X.shape[0]\n",
    "    \n",
    "    ### START CODE HERE ###\n",
    "\n",
    "    h_theta = np.dot(X, theta)\n",
    "    loss = np.sum(np.power(h_theta-Y, 2))/(2*m)\n",
    "    \n",
    "    ### END CODE HERE ###\n",
    "    \n",
    "    return loss"
   ]
  },
  {
   "cell_type": "code",
   "execution_count": 58,
   "metadata": {},
   "outputs": [
    {
     "name": "stdout",
     "output_type": "stream",
     "text": [
      "first_loss =  145.4723573288773\n"
     ]
    }
   ],
   "source": [
    "first_loss = compute_J(X, Y, theta)\n",
    "print(\"first_loss = \", first_loss)"
   ]
  },
  {
   "cell_type": "markdown",
   "metadata": {},
   "source": [
    "**任务4**:计算参数$\\theta$的梯度。  \n",
    "$$\n",
    "\\frac{\\partial J(\\theta)}{\\partial \\theta_j} = \\frac{1}{m} \\sum_{i=1}^{m} \\left ( \\theta^T x^{(i)} - y \\right ) x_j^{(i)}\n",
    "$$\n",
    "向量化公式为\n",
    "$$\n",
    "\\text{gradients} =\\frac{1}{m} X^T (X \\theta - Y) \n",
    "$$\n",
    "提示：矩阵A的转置表示为`A.T`"
   ]
  },
  {
   "cell_type": "code",
   "execution_count": 59,
   "metadata": {},
   "outputs": [],
   "source": [
    "def compute_gradient(X, Y, theta):\n",
    "    \"\"\"计算参数theta的梯度值\n",
    "    参数：\n",
    "        X: 训练集数据特征，shape: (m, 2)\n",
    "        Y: 训练集数据标签，shape: (m, 1)\n",
    "        theta: 参数，shape: (2, 1)\n",
    "        \n",
    "    返回：\n",
    "        gradients: theta的梯度列表 shape:(2,1)\n",
    "    \"\"\"\n",
    "    \n",
    "    m = X.shape[0]\n",
    "    gradients = None\n",
    "    \n",
    "    ### START CODE HERE ###\n",
    "\n",
    "    gradients = np.dot(X.T, (np.dot(X, theta)-Y))/m\n",
    "\n",
    "    ### END CODE HERE ###\n",
    "    \n",
    "    return gradients"
   ]
  },
  {
   "cell_type": "code",
   "execution_count": 60,
   "metadata": {},
   "outputs": [
    {
     "name": "stdout",
     "output_type": "stream",
     "text": [
      "gradients_first shape :  (2, 1)\n",
      "gradients_first =  [[ 16.10362006]\n",
      " [464.4922825 ]]\n"
     ]
    }
   ],
   "source": [
    "gradients_first = compute_gradient(X, Y, theta)\n",
    "print(\"gradients_first shape : \", gradients_first.shape)\n",
    "print(\"gradients_first = \", gradients_first)\n"
   ]
  },
  {
   "cell_type": "markdown",
   "metadata": {},
   "source": [
    "**任务5**:用梯度下降法更新参数$\\theta$  \n",
    "实现`update_parameters`函数。"
   ]
  },
  {
   "cell_type": "code",
   "execution_count": 61,
   "metadata": {},
   "outputs": [],
   "source": [
    "def update_parameters(theta, gradients, learning_rate=0.01):\n",
    "    \"\"\"更新参数theta\n",
    "    参数：\n",
    "        theta: 参数，shape: (2, 1)\n",
    "        gradients: 梯度，shape: (2, 1)\n",
    "        learning_rate: 学习率，默认为0.01\n",
    "        \n",
    "    返回：\n",
    "        parameters: 更新后的参数\n",
    "    \"\"\"\n",
    "    ### START CODE HERE ###\n",
    "\n",
    "    parameters = theta-learning_rate*gradients\n",
    "\n",
    "    ### END CODE HERE ###\n",
    "    \n",
    "    return parameters"
   ]
  },
  {
   "cell_type": "code",
   "execution_count": 62,
   "metadata": {
    "scrolled": true
   },
   "outputs": [
    {
     "name": "stdout",
     "output_type": "stream",
     "text": [
      "theta_one_iter =  [[ 0.3877773 ]\n",
      " [-3.92973346]]\n"
     ]
    }
   ],
   "source": [
    "theta_one_iter = update_parameters(theta, gradients_first)\n",
    "\n",
    "print(\"theta_one_iter = \", theta_one_iter)"
   ]
  },
  {
   "cell_type": "markdown",
   "metadata": {},
   "source": [
    "**任务6**：将前面定义的函数整合起来，实现完整的模型训练函数。迭代更新$\\theta$ `iter_num`次。迭代次数参数`iter_num`也是一个超参数，如果`iter_num`太小，损失函数$J(\\theta)$还没有收敛；如果`iter_num`太大，损失函数$J(\\theta)$早就收敛了，过多的迭代浪费时间。"
   ]
  },
  {
   "cell_type": "code",
   "execution_count": 63,
   "metadata": {},
   "outputs": [],
   "source": [
    "def model(X, Y, theta, iter_num = 100, learning_rate=0.0001):\n",
    "    \"\"\"梯度下降函数\n",
    "    参数：\n",
    "        X: 训练集数据特征，shape: (m, n+1)\n",
    "        Y: 训练集数据标签，shape: (m, 1)\n",
    "        iter_num: 梯度下降的迭代次数\n",
    "        theta: 初始化的参数，shape: (n+1, 1)\n",
    "    返回：\n",
    "        loss_history: 每次迭代的损失值\n",
    "        theta_history: 每次迭代更新后的参数\n",
    "        theta: 训练得到的参数\n",
    "    \"\"\"\n",
    "    \n",
    "    loss_history = []\n",
    "    theta_history = []\n",
    "    \n",
    "    for i in range(iter_num):\n",
    "        \n",
    "        ### START CODE HERE ###\n",
    "        \n",
    "        loss = compute_J(X, Y, theta)\n",
    "        gradients = compute_gradient(X, Y, theta)\n",
    "        theta = update_parameters(theta, gradients, learning_rate)\n",
    "\n",
    "        ### END CODE HERE ###\n",
    "        \n",
    "        loss_history.append(loss)\n",
    "        theta_history.append(theta)\n",
    "    \n",
    "    return loss_history, theta_history, theta"
   ]
  },
  {
   "cell_type": "code",
   "execution_count": 64,
   "metadata": {},
   "outputs": [
    {
     "name": "stdout",
     "output_type": "stream",
     "text": [
      "theta = \n",
      " [[0.52741588]\n",
      " [0.09023805]]\n",
      "loss =  0.0930181186193844\n"
     ]
    },
    {
     "data": {
      "image/png": "[encoded data removed]",
      "text/plain": [
       "<Figure size 432x288 with 1 Axes>"
      ]
     },
     "metadata": {
      "needs_background": "light"
     },
     "output_type": "display_data"
    }
   ],
   "source": [
    "loss_history, theta_history, theta = model(X, Y, theta, learning_rate=0.0001)\n",
    "print(\"theta = \\n\", theta)\n",
    "\n",
    "plt.plot(loss_history)\n",
    "print(\"loss = \", loss_history[-1])"
   ]
  },
  {
   "cell_type": "markdown",
   "metadata": {},
   "source": [
    "下面是学习到的线性模型与原始数据的关系"
   ]
  },
  {
   "cell_type": "code",
   "execution_count": 65,
   "metadata": {},
   "outputs": [
    {
     "data": {
      "text/plain": [
       "[<matplotlib.lines.Line2D at 0x1ffeaad5dc8>]"
      ]
     },
     "execution_count": 65,
     "metadata": {},
     "output_type": "execute_result"
    },
    {
     "data": {
      "image/png": "[encoded data removed]",
      "text/plain": [
       "<Figure size 432x288 with 1 Axes>"
      ]
     },
     "metadata": {
      "needs_background": "light"
     },
     "output_type": "display_data"
    }
   ],
   "source": [
    "plt.scatter(X[:,1],Y)\n",
    "x = np.arange(10,42)\n",
    "plt.plot(x,x*theta[1][0]+theta[0][0],'r')"
   ]
  },
  {
   "cell_type": "markdown",
   "metadata": {},
   "source": [
    "### 2.2.3 多变量线性回归\n",
    "上述例子时单变量回归的例子，样本的特征只有一个一天的最高温度。负责人进过分析后发现，城市一天的峰值用电量还与城市人口有关系，因此，他在回归模型中添加城市人口变量$x_2$，你的任务是训练这个多变量回归方程：\n",
    "$$\n",
    "h(x) = \\theta^T x = \\theta_0 * 1 + \\theta_1 * x_1 + \\theta_2 * x_2\n",
    "$$\n",
    "之前实现的梯度下降法使用的对象是$\\theta$和$X$向量，所示实现的梯度下降函数适用单变量回归和多变量回归。这里可以看到使用向量化的公式在多变量回归里依然不变，因此代码也基本一样,直接调用前面实现的函数即可。\n",
    "\n",
    "**任务7：** 现在，训练一个多变量回归模型。"
   ]
  },
  {
   "cell_type": "code",
   "execution_count": 18,
   "metadata": {},
   "outputs": [
    {
     "name": "stdout",
     "output_type": "stream",
     "text": [
      "theta =  [[0.526022  ]\n",
      " [0.06720419]\n",
      " [0.57591482]]\n",
      "loss =  0.10571180408810799\n"
     ]
    },
    {
     "data": {
      "image/png": "[encoded data removed]",
      "text/plain": [
       "<Figure size 432x288 with 1 Axes>"
      ]
     },
     "metadata": {
      "needs_background": "light"
     },
     "output_type": "display_data"
    }
   ],
   "source": [
    "#读取数据，X的前两列\n",
    "X = data[:,0:2].reshape(-1, 2)\n",
    "Y = data[:,2].reshape(-1, 1)\n",
    "\n",
    "### START CODE HERE ###\n",
    "\n",
    "# 同样为X的前面添加一列1,使得X的shape从100x2 -> 100x3\n",
    "X = preprocess_data(X)\n",
    "# 初始化参数theta ,theta的shape应为 3x1\n",
    "theta = init_parameter((3,1))\n",
    "#传入模型训练 learning_rate设为0.0001\n",
    "loss_history, theta_history, theta = model(X, Y, theta, iter_num = 100, learning_rate=0.0001)\n",
    "\n",
    "### END CODE HERE ###\n",
    "print(\"theta = \", theta)\n",
    "\n",
    "plt.plot(loss_history)\n",
    "print(\"loss = \", loss_history[-1])"
   ]
  },
  {
   "cell_type": "markdown",
   "metadata": {},
   "source": [
    "### 特征归一化\n",
    "\n",
    "特征归一化可以确保特征在相同的尺度，加快梯度下降的收敛过程。\n",
    "\n",
    "**任务8：** 对数据进行零均值单位方差归一化处理。零均值单位方差归一化公式：\n",
    "$$\n",
    "x_i = \\frac{x_i - \\mu_i}{\\sigma_i}\n",
    "$$\n",
    "其中$i$表示第$i$个特征，$\\mu_i$表示第$i$个特征的均值，$\\sigma_i$表示第$i$个特征的标准差。进行零均值单位方差归一化处理后，数据符合标准正态分布，即均值为0，标准差为1。  \n",
    "**注意**，使用新样本进行预测时，需要对样本的特征进行相同的缩放处理。\n",
    "\n",
    "提示：求特征的均值，使用numpy的函数`np.mean`，求特征的标准差，使用numpy的函数`np.std`，需要注意对哪个维度求均值和标准差。比如，对矩阵A对每一行求均值`np.mean(A,axis=0)`"
   ]
  },
  {
   "cell_type": "code",
   "execution_count": 39,
   "metadata": {},
   "outputs": [
    {
     "name": "stdout",
     "output_type": "stream",
     "text": [
      "mu =  [25.77175  1.1355 ]\n",
      "sigma =  [8.82317046 0.35648247]\n",
      "theta =  [[2.87687827]\n",
      " [0.69766231]\n",
      " [0.03497325]]\n",
      "loss =  0.08778900945492227\n"
     ]
    },
    {
     "data": {
      "image/png": "[encoded data removed]",
      "text/plain": [
       "<Figure size 432x288 with 1 Axes>"
      ]
     },
     "metadata": {
      "needs_background": "light"
     },
     "output_type": "display_data"
    }
   ],
   "source": [
    "X = data[:,0:2].reshape((-1, 2))\n",
    "Y = data[:,2].reshape((-1, 1))\n",
    "\n",
    "### START CODE HERE ###\n",
    "\n",
    "# 计算特征的均值 mu\n",
    "mu = np.mean(X, axis=0)\n",
    "# 计算特征的标准差 sigma\n",
    "sigma = np.std(X, axis=0)\n",
    "# 零均值单位方差归一化\n",
    "X_norm = (X-mu)/sigma\n",
    "\n",
    "### END CODE HERE ###\n",
    "\n",
    "# 训练多变量回归模型\n",
    "# X_norm前面加一列1\n",
    "X = preprocess_data(X_norm)\n",
    "\n",
    "theta = np.array([3,3,3]).reshape(3,1)#init_parameter((3,1))\n",
    "\n",
    "# 学习率使用0.1\n",
    "loss_history, theta_history, theta = model(X, Y, theta, learning_rate=0.1)\n",
    "\n",
    "print(\"mu = \", mu)\n",
    "print(\"sigma = \", sigma)\n",
    "print(\"theta = \", theta)\n",
    "plt.plot(loss_history)\n",
    "print(\"loss = \", loss_history[-1])"
   ]
  },
  {
   "cell_type": "markdown",
   "metadata": {},
   "source": [
    "我们来直观地了解特征尺度归一化的梯度下降的过程。这里只展示单变量回归梯度下降过程。"
   ]
  },
  {
   "cell_type": "code",
   "execution_count": 40,
   "metadata": {},
   "outputs": [
    {
     "data": {
      "text/plain": [
       "<matplotlib.collections.PathCollection at 0x1e670b90e48>"
      ]
     },
     "execution_count": 40,
     "metadata": {},
     "output_type": "execute_result"
    },
    {
     "data": {
      "image/png": "[encoded data removed]",
      "text/plain": [
       "<Figure size 432x288 with 1 Axes>"
      ]
     },
     "metadata": {
      "needs_background": "light"
     },
     "output_type": "display_data"
    }
   ],
   "source": [
    "X_show = X[:,0:2]\n",
    "X_show = preprocess_data(X_show)\n",
    "\n",
    "theta_0 = np.linspace(-2, 3, 50)\n",
    "theta_1 = np.linspace(-2, 3, 50)\n",
    "theta_0, theta_1 = np.meshgrid(theta_0,theta_1)\n",
    "J = np.zeros_like(theta_0)\n",
    "\n",
    "for i in range(50):\n",
    "    for j in range(50):\n",
    "        J[i,j] = compute_J(X_show, Y, np.array([[2.877],[theta_0[i,j]],[theta_1[i,j]]]))\n",
    "\n",
    "plt.contourf(theta_0, theta_1, J, 10, alpha = 0.6, cmap = plt.cm.coolwarm)\n",
    "C = plt.contour(theta_0, theta_1, J, 10, colors = 'black')\n",
    "\n",
    "# 画出损失函数J的历史位置\n",
    "history_num = len(theta_history)\n",
    "theta_0_history = np.zeros(history_num)\n",
    "theta_1_history = np.zeros(history_num)\n",
    "for i in range(history_num):\n",
    "    theta_0_history[i],theta_1_history[i] = theta_history[i][2,0],theta_history[i][1,0]\n",
    "plt.scatter(theta_0_history, theta_1_history, c=\"r\")"
   ]
  },
  {
   "cell_type": "markdown",
   "metadata": {},
   "source": [
    "可以看到，$J(\\theta)$的值不断地往最低点移动。与没有进行特征尺度归一化的图相比，归一化后，每个维度的变化幅度大致相同，这有助于$J(\\theta)$的值快速下降到最低点。"
   ]
  },
  {
   "cell_type": "markdown",
   "metadata": {},
   "source": [
    "## 2.3 使用Pytorch完成线性回归任务"
   ]
  },
  {
   "cell_type": "markdown",
   "metadata": {},
   "source": [
    "我们继续使用城市用电预测任务，这次使用Pytorch框架设计线性回归算法，使用继承nn.Module()类的nn.Linear()类\n",
    "\n",
    "nn.Linear(in_features, out_features): 用于设置网络中的全连接层，需要注意的是全连接层的输入与输出都是二维张量。  \n",
    "    in_features指的是输入的二维张量的大小，即输入的[batch_size, size]中的size。  \n",
    "    out_features指的是输出的二维张量的大小，即输出的二维张量的形状为[batch_size，output_size]，当然，它也代表了该全连接层的神经元个数。\n"
   ]
  },
  {
   "cell_type": "markdown",
   "metadata": {},
   "source": [
    "### 定义LinearRegression类\n",
    "首先进行定义，只包含一层nn.Linear(),需要完成初始化函数init，在其中设计我们的线性层，及前向传播forward函数。"
   ]
  },
  {
   "cell_type": "code",
   "execution_count": 30,
   "metadata": {},
   "outputs": [],
   "source": [
    "import torch\n",
    "\n",
    "class LinearRegression(torch.nn.Module):\n",
    "    \"\"\"\n",
    "    模型包含一层nn.Linear类，输入大小2，输出大小1\n",
    "    \"\"\"\n",
    "    def __init__(self):\n",
    "        super().__init__()\n",
    "        self.linear = torch.nn.Linear(2,1)\n",
    "        \n",
    "    def forward(self,x):\n",
    "        out = self.linear(x)\n",
    "        return out\n",
    "\n",
    "model = LinearRegression()"
   ]
  },
  {
   "cell_type": "markdown",
   "metadata": {},
   "source": [
    "### 定义损失函数：平方损失 & 定义优化算法：SGD"
   ]
  },
  {
   "cell_type": "code",
   "execution_count": 31,
   "metadata": {},
   "outputs": [],
   "source": [
    "learning_rate = 1e-3\n",
    "loss_function = torch.nn.MSELoss()\n",
    "optimizer = torch.optim.SGD(model.parameters(), lr=learning_rate)"
   ]
  },
  {
   "cell_type": "markdown",
   "metadata": {},
   "source": [
    "### 定义数据集，转化为Tensor格式"
   ]
  },
  {
   "cell_type": "code",
   "execution_count": 32,
   "metadata": {},
   "outputs": [
    {
     "name": "stdout",
     "output_type": "stream",
     "text": [
      "torch.Size([80, 2]) torch.Size([80, 1])\n"
     ]
    }
   ],
   "source": [
    "X = data[:,0:2].reshape(-1, 2)\n",
    "Y = data[:,2].reshape(-1, 1)\n",
    "x = torch.from_numpy(X.astype(np.float32))\n",
    "y = torch.from_numpy(Y.astype(np.float32))\n",
    "print(x.shape, y.shape)"
   ]
  },
  {
   "cell_type": "markdown",
   "metadata": {},
   "source": [
    "### 训练：共20个epoch，损失最终降至0.1865"
   ]
  },
  {
   "cell_type": "code",
   "execution_count": 33,
   "metadata": {},
   "outputs": [
    {
     "name": "stdout",
     "output_type": "stream",
     "text": [
      "epoch: 0, loss: 147.07382202148438\n",
      "epoch: 1, loss: 35.20121383666992\n",
      "epoch: 2, loss: 8.533326148986816\n",
      "epoch: 3, loss: 2.176311731338501\n",
      "epoch: 4, loss: 0.6609387993812561\n",
      "epoch: 5, loss: 0.29970043897628784\n",
      "epoch: 6, loss: 0.2135808914899826\n",
      "epoch: 7, loss: 0.1930435597896576\n",
      "epoch: 8, loss: 0.18813934922218323\n",
      "epoch: 9, loss: 0.1869617998600006\n",
      "epoch: 10, loss: 0.186672642827034\n",
      "epoch: 11, loss: 0.18659521639347076\n",
      "epoch: 12, loss: 0.1865682750940323\n",
      "epoch: 13, loss: 0.18655340373516083\n",
      "epoch: 14, loss: 0.1865413635969162\n",
      "epoch: 15, loss: 0.18653005361557007\n",
      "epoch: 16, loss: 0.18651893734931946\n",
      "epoch: 17, loss: 0.18650783598423004\n",
      "epoch: 18, loss: 0.1864967793226242\n",
      "epoch: 19, loss: 0.18648575246334076\n"
     ]
    }
   ],
   "source": [
    "epoches = 20\n",
    "\n",
    "for epoch in range(epoches):\n",
    "    pred = model(x)\n",
    "    loss = loss_function(pred, y)\n",
    "    \n",
    "    optimizer.zero_grad()\n",
    "    loss.backward()\n",
    "    optimizer.step()\n",
    "    \n",
    "    print(\"epoch: {}, loss: {}\".format(epoch, loss.item()))"
   ]
  }
 ],
 "metadata": {
  "kernelspec": {
   "display_name": "Python [conda env:tensorbase] *",
   "language": "python",
   "name": "conda-env-tensorbase-py"
  },
  "language_info": {
   "codemirror_mode": {
    "name": "ipython",
    "version": 3
   },
   "file_extension": ".py",
   "mimetype": "text/x-python",
   "name": "python",
   "nbconvert_exporter": "python",
   "pygments_lexer": "ipython3",
   "version": "3.7.10"
  }
 },
 "nbformat": 4,
 "nbformat_minor": 2
}
